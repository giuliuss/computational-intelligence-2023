{
 "cells": [
  {
   "cell_type": "markdown",
   "metadata": {},
   "source": [
    "# LAB2\n",
    "\n",
    "Wrote a local-search algorithm (eg. an EA) able to solve the *Problem* instances 1, 2, 5, and 10 on a 1000-loci genomes, using a minimum number of fitness calls. That's all.\n",
    "\n",
    "### Deadlines:\n",
    "\n",
    "* Submission: Sunday, November 26 ([CET](https://www.timeanddate.com/time/zones/cet))\n",
    "* Reviews: Sunday, December 3 ([CET](https://www.timeanddate.com/time/zones/cet))\n",
    "\n",
    "Notes:\n",
    "\n",
    "* Reviews will be assigned  on Monday, November 27\n",
    "* You need to commit in order to be selected as a reviewer (ie. better to commit an empty work than not to commit)"
   ]
  },
  {
   "cell_type": "code",
   "execution_count": 16,
   "metadata": {},
   "outputs": [],
   "source": [
    "from random import choices\n",
    "\n",
    "import lab2_lib"
   ]
  },
  {
   "cell_type": "code",
   "execution_count": 17,
   "metadata": {},
   "outputs": [
    {
     "name": "stdout",
     "output_type": "stream",
     "text": [
      "11101001110110011011100000010010110111100010101100 : 0.7445599999999999\n",
      "01101110011010110010111010111000010111011101111100 : 0.62336\n",
      "11011111100110010111010111011011010110111000010101 : 0.7234499999999999\n",
      "10011001110101101011101011111000100111001011011011 : 0.6333500000000001\n",
      "00101101101010010010000001000111010000011010101111 : 0.54458\n",
      "00001000000000001111000000010010010001111011111010 : 0.45568\n",
      "00000110001010001011100111101010011000111011000100 : 0.5356700000000001\n",
      "00100111010111101010000011100001010100110011110100 : 0.4444600000000001\n",
      "11110000000000000010110111000101100101101111111101 : 0.54446\n",
      "11010110000001110001101011101001010011001101111111 : 0.62347\n",
      "10\n"
     ]
    }
   ],
   "source": [
    "fitness = lab2_lib.make_problem(5)\n",
    "for n in range(10):\n",
    "    ind = choices([0, 1], k = 50)\n",
    "    print(''.join(str(g) for g in ind), ':', fitness(ind))\n",
    "\n",
    "print(fitness.calls)"
   ]
  },
  {
   "cell_type": "code",
   "execution_count": null,
   "metadata": {},
   "outputs": [],
   "source": []
  }
 ],
 "metadata": {
  "kernelspec": {
   "display_name": "ci-fLJ3OwGs-py3.12",
   "language": "python",
   "name": "python3"
  },
  "language_info": {
   "codemirror_mode": {
    "name": "ipython",
    "version": 3
   },
   "file_extension": ".py",
   "mimetype": "text/x-python",
   "name": "python",
   "nbconvert_exporter": "python",
   "pygments_lexer": "ipython3",
   "version": "3.12.0"
  }
 },
 "nbformat": 4,
 "nbformat_minor": 2
}
