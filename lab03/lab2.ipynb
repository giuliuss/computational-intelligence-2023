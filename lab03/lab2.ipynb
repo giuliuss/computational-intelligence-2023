{
 "cells": [
  {
   "cell_type": "markdown",
   "metadata": {},
   "source": [
    "Copyright **`(c)`** 2023 Giovanni Squillero `<giovanni.squillero@polito.it>`  \n",
    "[`https://github.com/squillero/computational-intelligence`](https://github.com/squillero/computational-intelligence)  \n",
    "Free for personal or classroom use; see [`LICENSE.md`](https://github.com/squillero/computational-intelligence/blob/master/LICENSE.md) for details.  "
   ]
  },
  {
   "cell_type": "markdown",
   "metadata": {},
   "source": [
    "# LAB2\n",
    "\n",
    "Wrote a local-search algorithm (eg. an EA) able to solve the *Problem* instances 1, 2, 5, and 10 on a 1000-loci genomes, using a minimum number of fitness calls. That's all.\n",
    "\n",
    "### Deadlines:\n",
    "\n",
    "* Submission: Sunday, November 26 ([CET](https://www.timeanddate.com/time/zones/cet))\n",
    "* Reviews: Sunday, December 3 ([CET](https://www.timeanddate.com/time/zones/cet))\n",
    "\n",
    "Notes:\n",
    "\n",
    "* Reviews will be assigned  on Monday, November 27\n",
    "* You need to commit in order to be selected as a reviewer (ie. better to commit an empty work than not to commit)"
   ]
  },
  {
   "cell_type": "code",
   "execution_count": 1,
   "metadata": {},
   "outputs": [],
   "source": [
    "from random import choices\n",
    "\n",
    "import lab2_lib"
   ]
  },
  {
   "cell_type": "code",
   "execution_count": 2,
   "metadata": {},
   "outputs": [
    {
     "name": "stdout",
     "output_type": "stream",
     "text": [
      "11110101111000011111101010000100111001001100000000 : 0.7333555557999999\n",
      "01111110001110001011001001101000011110111010110000 : 0.711335556\n",
      "10001101100001001001010101010110000000100111011110 : 0.5333555578\n",
      "01011100100101001100111101101101110101001000101110 : 0.7133335557999999\n",
      "00000101110010011111001011101010100000011101011111 : 0.7113335778000001\n",
      "00010000011111000000011111000101001101011101111011 : 0.7113355777999999\n",
      "01101101001010001001000010011000100000110110110000 : 0.7355555779999999\n",
      "01001100100001001101010101111110010110001001100110 : 0.733335556\n",
      "11000100101010110100010010100000111010101010111011 : 0.7333335778\n",
      "10111100001010011001001110100011101010000010010111 : 0.9333355777999999\n",
      "10\n"
     ]
    }
   ],
   "source": [
    "fitness = lab2_lib.make_problem(10)\n",
    "for n in range(10):\n",
    "    ind = choices([0, 1], k = 50)\n",
    "    print(''.join(str(g) for g in ind), ':', fitness(ind))\n",
    "\n",
    "print(fitness.calls)"
   ]
  },
  {
   "cell_type": "code",
   "execution_count": null,
   "metadata": {},
   "outputs": [],
   "source": []
  }
 ],
 "metadata": {
  "kernelspec": {
   "display_name": "ci-fLJ3OwGs-py3.12",
   "language": "python",
   "name": "python3"
  },
  "language_info": {
   "codemirror_mode": {
    "name": "ipython",
    "version": 3
   },
   "file_extension": ".py",
   "mimetype": "text/x-python",
   "name": "python",
   "nbconvert_exporter": "python",
   "pygments_lexer": "ipython3",
   "version": "3.12.0"
  }
 },
 "nbformat": 4,
 "nbformat_minor": 2
}
