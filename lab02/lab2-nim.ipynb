{
 "cells": [
  {
   "cell_type": "markdown",
   "metadata": {
    "pycharm": {
     "name": "#%%\n"
    }
   },
   "source": [
    "# Lab 3: ES\n",
    "\n",
    "## Task\n",
    "\n",
    "Write agents able to play [*Nim*](https://en.wikipedia.org/wiki/Nim), with an arbitrary number of rows and an upper bound $k$ on the number of objects that can be removed in a turn (a.k.a., *subtraction game*).\n",
    "\n",
    "The goal of the game is to **avoid** taking the last object.\n",
    "\n",
    "* Task2.1: An agent using fixed rules based on *nim-sum* (i.e., an *expert system*)\n",
    "* Task2.2: An agent using evolved rules using ES\n",
    "\n",
    "## Instructions\n",
    "\n",
    "* Create the directory `lab2` inside your personal course repository for the course \n",
    "* Put a `README.md` and your solution (all the files, code and auxiliary data if needed)\n",
    "\n",
    "## Notes\n",
    "\n",
    "* Working in group is not only allowed, but recommended (see: [Ubuntu](https://en.wikipedia.org/wiki/Ubuntu_philosophy) and [Cooperative Learning](https://files.eric.ed.gov/fulltext/EJ1096789.pdf)). Collaborations must be explicitly declared in the `README.md`.\n",
    "* [Yanking](https://www.emacswiki.org/emacs/KillingAndYanking) from the internet is allowed, but sources must be explicitly declared in the `README.md`.\n",
    "\n"
   ]
  },
  {
   "cell_type": "code",
   "execution_count": 938,
   "metadata": {},
   "outputs": [],
   "source": [
    "import logging\n",
    "from pprint import pprint, pformat\n",
    "from collections import namedtuple\n",
    "import random\n",
    "from copy import *\n"
   ]
  },
  {
   "cell_type": "markdown",
   "metadata": {},
   "source": [
    "## The *Nim* and *Nimply* classes"
   ]
  },
  {
   "cell_type": "code",
   "execution_count": 939,
   "metadata": {},
   "outputs": [],
   "source": [
    "Nimply = namedtuple(\"Nimply\", \"row, num_objects\")\n"
   ]
  },
  {
   "cell_type": "code",
   "execution_count": 940,
   "metadata": {},
   "outputs": [],
   "source": [
    "class Nim:\n",
    "    def __init__(self, num_rows: int, k: int = None) -> None:\n",
    "        self._rows = [i * 2 + 1 for i in range(num_rows)]\n",
    "        self._k = k\n",
    "\n",
    "    def __bool__(self):\n",
    "        return sum(self._rows) > 0\n",
    "\n",
    "    def __str__(self):\n",
    "        return \"<\" + \" \".join(str(_) for _ in self._rows) + \">\"\n",
    "\n",
    "    @property\n",
    "    def rows(self) -> tuple:\n",
    "        return tuple(self._rows)\n",
    "\n",
    "    def nimming(self, ply: Nimply) -> None:\n",
    "        row, num_objects = ply\n",
    "        assert self._rows[row] >= num_objects\n",
    "        assert self._k is None or num_objects <= self._k\n",
    "        self._rows[row] -= num_objects\n"
   ]
  },
  {
   "cell_type": "markdown",
   "metadata": {},
   "source": [
    "## Sample (and silly) startegies "
   ]
  },
  {
   "cell_type": "code",
   "execution_count": 941,
   "metadata": {},
   "outputs": [],
   "source": [
    "import numpy as np\n",
    "\n",
    "\n",
    "def nim_sum(state: Nim) -> int:\n",
    "    tmp = np.array([tuple(int(x) for x in f\"{c:032b}\") for c in state.rows])\n",
    "    xor = tmp.sum(axis=0) % 2\n",
    "    return int(\"\".join(str(_) for _ in xor), base=2)\n",
    "\n",
    "\n",
    "def analize(raw: Nim) -> dict:\n",
    "    cooked = dict()\n",
    "    cooked[\"possible_moves\"] = dict()\n",
    "    for ply in (Nimply(r, o) for r, c in enumerate(raw.rows) for o in range(1, c + 1)):\n",
    "        tmp = deepcopy(raw)\n",
    "        tmp.nimming(ply)\n",
    "        cooked[\"possible_moves\"][ply] = nim_sum(tmp)\n",
    "    return cooked\n",
    "\n",
    "\n",
    "def optimal(state: Nim) -> Nimply:\n",
    "    analysis = analize(state)\n",
    "    logging.debug(f\"analysis:\\n{pformat(analysis)}\")\n",
    "    spicy_moves = [ply for ply, ns in analysis[\"possible_moves\"].items() if ns != 0]\n",
    "    if not spicy_moves:\n",
    "        spicy_moves = list(analysis[\"possible_moves\"].keys())\n",
    "    ply = random.choice(spicy_moves)\n",
    "    return ply\n"
   ]
  },
  {
   "cell_type": "code",
   "execution_count": 942,
   "metadata": {},
   "outputs": [],
   "source": [
    "POPULATION_SIZE = 30\n",
    "GENE_SIZE = 5\n",
    "GENERATIONS = 10\n",
    "OFFSPRING_SIZE = POPULATION_SIZE // 2 if (POPULATION_SIZE//2) % 2 == 0 else (POPULATION_SIZE // 2) - 1\n",
    "MUTATION_PROBABILITY = .15"
   ]
  },
  {
   "cell_type": "code",
   "execution_count": 943,
   "metadata": {},
   "outputs": [],
   "source": [
    "def pure_random_mode(state: Nim) -> Nimply:\n",
    "    \"\"\"A completely random move\"\"\"\n",
    "    row = random.choice([r for r, c in enumerate(state.rows) if c > 0])\n",
    "    num_objects = random.randint(1, state.rows[row])\n",
    "    return Nimply(row, num_objects)\n",
    "\n",
    "\n",
    "def gabriele_mode(state: Nim) -> Nimply:\n",
    "    \"\"\"Pick always the maximum possible number of the lowest row\"\"\"\n",
    "    possible_moves = [(r, o) for r, c in enumerate(state.rows) for o in range(1, c + 1)]\n",
    "    return Nimply(*max(possible_moves, key=lambda m: (-m[0], m[1])))\n",
    "\n",
    "\n",
    "def conservative_mode(state):\n",
    "    \"\"\"Pick always the minimum possible number of elements\"\"\"\n",
    "    possible_moves = [(r, o) for r, c in enumerate(state.rows) for o in range(1, c + 1)]\n",
    "    return Nimply(*min(possible_moves, key=lambda m: (m[0], m[1])))\n",
    "\n",
    "\n",
    "def balance_rows_mode(state: Nim) -> Nimply:\n",
    "    \"\"\"Balance the number of elements between rows\"\"\"\n",
    "    row_sums = sum(state.rows)\n",
    "    target_avg = row_sums // len(state.rows)\n",
    "    \n",
    "    # Find the row with more elements than the average\n",
    "    row_to_reduce = next((i for i, count in enumerate(state.rows) if count > target_avg), None)\n",
    "    \n",
    "    if row_to_reduce:\n",
    "        num_objects = state.rows[row_to_reduce] - target_avg\n",
    "        return Nimply(row_to_reduce, num_objects)\n",
    "    \n",
    "    # If all rows have the same or fewer elements than the average, make a random move\n",
    "    return pure_random_mode(state)\n",
    "\n",
    "\n",
    "def limited_move_mode(state: Nim, max_elements: int = 3) -> Nimply:\n",
    "    \"\"\"Make a move with a limit on the number of elements to be removed\"\"\"\n",
    "    row = random.choice([r for r, c in enumerate(state.rows) if c > 0])\n",
    "    num_objects = min(random.randint(1, state.rows[row]), max_elements)\n",
    "    return Nimply(row, num_objects)\n",
    "\n"
   ]
  },
  {
   "cell_type": "code",
   "execution_count": 944,
   "metadata": {},
   "outputs": [],
   "source": [
    "STRATEGIES = [pure_random_mode,gabriele_mode,conservative_mode,balance_rows_mode,limited_move_mode]"
   ]
  },
  {
   "cell_type": "code",
   "execution_count": 945,
   "metadata": {},
   "outputs": [],
   "source": [
    "class NimAgent:\n",
    "    def __init__(self):\n",
    "        self.genotype = self.initialize_gen()\n",
    "        self.score = 0\n",
    "\n",
    "\n",
    "    def initialize_gen(self):\n",
    "        gen = np.random.rand(GENE_SIZE)\n",
    "        gen /= np.sum(gen, axis=0, keepdims=True)  # Normalizzazione\n",
    "        return list(gen)\n",
    "    "
   ]
  },
  {
   "cell_type": "code",
   "execution_count": 946,
   "metadata": {},
   "outputs": [],
   "source": [
    "population = [NimAgent() for _ in range(POPULATION_SIZE)]  # Crea una lista di oggetti NimAgent\n",
    "\n",
    "def print_population(population):\n",
    "    for i, agent in enumerate(population):\n",
    "        print(f\"Agent {i + 1} - Genotype: {agent.genotype}, Score: {agent.score}\")"
   ]
  },
  {
   "cell_type": "code",
   "execution_count": 947,
   "metadata": {},
   "outputs": [],
   "source": [
    "# Funzione per ottenere una mossa basata sulle probabilità di strategia assegnate ad ogni individuo\n",
    "def get_strategy(weights):\n",
    "    selected_strategy = np.random.choice(STRATEGIES, p=weights)\n",
    "    return selected_strategy\n"
   ]
  },
  {
   "cell_type": "code",
   "execution_count": 948,
   "metadata": {},
   "outputs": [],
   "source": [
    "def fitness(p):\n",
    "    for agent in p:\n",
    "        agent.score = agent.score / ((POPULATION_SIZE-1)*2)\n",
    "    return p"
   ]
  },
  {
   "cell_type": "code",
   "execution_count": 949,
   "metadata": {},
   "outputs": [],
   "source": [
    "def evaluate(population): \n",
    "    for i in range(POPULATION_SIZE):\n",
    "        player1 = population[i].genotype\n",
    "        for j in range(POPULATION_SIZE):\n",
    "            if j!=i: \n",
    "                player2 = population[j].genotype\n",
    "                nim = Nim(5)\n",
    "                player = 0\n",
    "                while nim:\n",
    "                    if player == 0:\n",
    "                        strategy = get_strategy(player1)\n",
    "                        ply = strategy(nim)\n",
    "                    else: \n",
    "                        strategy = get_strategy(player2)\n",
    "                        ply = strategy(nim)\n",
    "                    nim.nimming(ply)\n",
    "                    player = 1 - player\n",
    "                \n",
    "                if player==0: \n",
    "                    population[i].score += 1\n",
    "                else: \n",
    "                    population[j].score += 1\n",
    "    population = fitness(population)\n",
    "    return population\n",
    "\n",
    "            \n"
   ]
  },
  {
   "cell_type": "code",
   "execution_count": 950,
   "metadata": {},
   "outputs": [],
   "source": [
    "def crossover_agents(agents):\n",
    "    offspring = []\n",
    "\n",
    "    for i in range(1, len(agents), 2):\n",
    "        parent1 = agents[i - 1]\n",
    "        parent2 = agents[i]\n",
    "\n",
    "        # Doing crossover\n",
    "        child1_genotype, child2_genotype = crossover(parent1.genotype, parent2.genotype)\n",
    "\n",
    "        # New agents after crossover\n",
    "        child1 = NimAgent()\n",
    "        child2 = NimAgent()\n",
    "\n",
    "        child1.genotype = child1_genotype\n",
    "        child2.genotype = child2_genotype\n",
    "\n",
    "        offspring.extend([child1, child2])\n",
    "\n",
    "    return offspring\n",
    "\n",
    "def crossover(genotype1, genotype2):\n",
    "    crossover_point = random.randint(1, GENE_SIZE - 1)\n",
    "    child1_genotype = genotype1[:crossover_point] + genotype2[crossover_point:]\n",
    "    child2_genotype = genotype2[:crossover_point] + genotype1[crossover_point:]\n",
    "\n",
    "    # Normalize the genotypes\n",
    "    child1_genotype /= np.sum(child1_genotype, axis=0, keepdims=True)\n",
    "    child2_genotype /= np.sum(child2_genotype, axis=0, keepdims=True)\n",
    "\n",
    "    return list(child1_genotype), list(child2_genotype)\n"
   ]
  },
  {
   "cell_type": "code",
   "execution_count": 951,
   "metadata": {},
   "outputs": [],
   "source": [
    "def mutate(genotype):\n",
    "    i = random.choice(range(GENE_SIZE))\n",
    "    if random.random() < MUTATION_PROBABILITY:\n",
    "        genotype[i] += abs(random.uniform(-0.15, 0.15))\n",
    "    genotype /= np.sum(genotype, axis=0, keepdims=True)  # Normalize again after mutation\n",
    "    return list(genotype)"
   ]
  },
  {
   "cell_type": "code",
   "execution_count": 952,
   "metadata": {},
   "outputs": [
    {
     "name": "stdout",
     "output_type": "stream",
     "text": [
      "[0.16669969479606686, 0.0523319861610638, 0.4403431403918838, 0.17885076329007932, 0.16177441536090628]\n"
     ]
    }
   ],
   "source": [
    "for g in range(GENERATIONS):\n",
    "    # evaluate population \n",
    "    population = evaluate(population)\n",
    "    population.sort(key=lambda agent: agent.score, reverse=True)\n",
    "\n",
    "    # select parent\n",
    "    population = population[:POPULATION_SIZE-OFFSPRING_SIZE]\n",
    "    #print_population(population)\n",
    "    [setattr(agent, 'score', 0) for agent in population]\n",
    "    offspring = population[:OFFSPRING_SIZE].copy()\n",
    "    #print_population(offspring)\n",
    "\n",
    "    # crossover\n",
    "    offspring = crossover_agents(offspring)\n",
    "\n",
    "    # mutation \n",
    "    for agent in offspring:\n",
    "        agent.genotype = mutate(agent.genotype)\n",
    "    #print_population(offspring)\n",
    "    population = population + offspring\n",
    "    #print_population(population)\n",
    "\n",
    "best_agent = population[0]\n",
    "print(best_agent.genotype)\n"
   ]
  },
  {
   "cell_type": "code",
   "execution_count": 962,
   "metadata": {},
   "outputs": [
    {
     "name": "stdout",
     "output_type": "stream",
     "text": [
      "best agent wins:  13\n",
      "optimal agent wins:  37\n"
     ]
    }
   ],
   "source": [
    "logging.getLogger().setLevel(logging.INFO)\n",
    "\n",
    "best_agent_wins = 0\n",
    "adversary_wins = 0\n",
    "\n",
    "for i in range(50):\n",
    "    nim = Nim(5)\n",
    "    player = 0\n",
    "    while nim:\n",
    "        if player == 0:\n",
    "            strategy = get_strategy(best_agent.genotype)\n",
    "            ply = strategy(nim)\n",
    "        else:\n",
    "            ply = optimal(nim)\n",
    "        nim.nimming(ply)\n",
    "        player = 1 - player\n",
    "    if player == 0: \n",
    "        best_agent_wins += 1\n",
    "    else: \n",
    "        adversary_wins += 1\n",
    "print(\"best agent wins: \", best_agent_wins)\n",
    "print(\"optimal agent wins: \", adversary_wins)\n"
   ]
  },
  {
   "cell_type": "code",
   "execution_count": 965,
   "metadata": {},
   "outputs": [
    {
     "name": "stdout",
     "output_type": "stream",
     "text": [
      "best agent wins:  28\n",
      "pure random agent wins:  22\n"
     ]
    }
   ],
   "source": [
    "logging.getLogger().setLevel(logging.INFO)\n",
    "\n",
    "best_agent_wins = 0\n",
    "adversary_wins = 0\n",
    "\n",
    "for i in range(50):\n",
    "    nim = Nim(5)\n",
    "    player = 0\n",
    "    while nim:\n",
    "        if player == 0:\n",
    "            strategy = get_strategy(best_agent.genotype)\n",
    "            ply = strategy(nim)\n",
    "        else:\n",
    "            ply = pure_random_mode(nim)\n",
    "        nim.nimming(ply)\n",
    "        player = 1 - player\n",
    "    if player == 0: \n",
    "        best_agent_wins += 1\n",
    "    else: \n",
    "        adversary_wins += 1\n",
    "print(\"best agent wins: \", best_agent_wins)\n",
    "print(\"pure random agent wins: \", adversary_wins)"
   ]
  },
  {
   "cell_type": "code",
   "execution_count": 966,
   "metadata": {},
   "outputs": [
    {
     "name": "stdout",
     "output_type": "stream",
     "text": [
      "best agent wins:  48\n",
      "gabriele agent wins:  2\n"
     ]
    }
   ],
   "source": [
    "logging.getLogger().setLevel(logging.INFO)\n",
    "\n",
    "best_agent_wins = 0\n",
    "adversary_wins = 0\n",
    "\n",
    "for i in range(50):\n",
    "    nim = Nim(5)\n",
    "    player = 0\n",
    "    while nim:\n",
    "        if player == 0:\n",
    "            strategy = get_strategy(best_agent.genotype)\n",
    "            ply = strategy(nim)\n",
    "        else:\n",
    "            ply = gabriele_mode(nim)\n",
    "        nim.nimming(ply)\n",
    "        player = 1 - player\n",
    "    if player == 0: \n",
    "        best_agent_wins += 1\n",
    "    else: \n",
    "        adversary_wins += 1\n",
    "print(\"best agent wins: \", best_agent_wins)\n",
    "print(\"gabriele agent wins: \", adversary_wins)"
   ]
  },
  {
   "cell_type": "code",
   "execution_count": 990,
   "metadata": {},
   "outputs": [
    {
     "name": "stdout",
     "output_type": "stream",
     "text": [
      "best agent wins:  27\n",
      "conservative agent wins:  23\n"
     ]
    }
   ],
   "source": [
    "logging.getLogger().setLevel(logging.INFO)\n",
    "\n",
    "best_agent_wins = 0\n",
    "adversary_wins = 0\n",
    "\n",
    "for i in range(50):\n",
    "    nim = Nim(5)\n",
    "    player = 0\n",
    "    while nim:\n",
    "        if player == 0:\n",
    "            strategy = get_strategy(best_agent.genotype)\n",
    "            ply = strategy(nim)\n",
    "        else:\n",
    "            ply = conservative_mode(nim)\n",
    "        nim.nimming(ply)\n",
    "        player = 1 - player\n",
    "    if player == 0: \n",
    "        best_agent_wins += 1\n",
    "    else: \n",
    "        adversary_wins += 1\n",
    "print(\"best agent wins: \", best_agent_wins)\n",
    "print(\"conservative agent wins: \", adversary_wins)"
   ]
  }
 ],
 "metadata": {
  "kernelspec": {
   "display_name": "Python 3.10.7 ('ci22-dPIXJ0_o-py3.10')",
   "language": "python",
   "name": "python3"
  },
  "language_info": {
   "codemirror_mode": {
    "name": "ipython",
    "version": 3
   },
   "file_extension": ".py",
   "mimetype": "text/x-python",
   "name": "python",
   "nbconvert_exporter": "python",
   "pygments_lexer": "ipython3",
   "version": "3.12.0"
  },
  "vscode": {
   "interpreter": {
    "hash": "10197e8e2f2aa67e2c349105091c77f4cd384fce4877865f002d9ec653f96bc0"
   }
  }
 },
 "nbformat": 4,
 "nbformat_minor": 2
}
