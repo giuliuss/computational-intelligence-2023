{
 "cells": [
  {
   "cell_type": "markdown",
   "metadata": {},
   "source": [
    "# LAB2\n",
    "\n",
    "Wrote a local-search algorithm (eg. an EA) able to solve the *Problem* instances 1, 2, 5, and 10 on a 1000-loci genomes, using a minimum number of fitness calls. That's all.\n",
    "\n",
    "### Deadlines:\n",
    "\n",
    "* Submission: Sunday, November 26 ([CET](https://www.timeanddate.com/time/zones/cet))\n",
    "* Reviews: Sunday, December 3 ([CET](https://www.timeanddate.com/time/zones/cet))\n",
    "\n",
    "Notes:\n",
    "\n",
    "* Reviews will be assigned  on Monday, November 27\n",
    "* You need to commit in order to be selected as a reviewer (ie. better to commit an empty work than not to commit)"
   ]
  },
  {
   "cell_type": "code",
   "execution_count": 1,
   "metadata": {},
   "outputs": [],
   "source": [
    "from random import choices,randint\n",
    "import random\n",
    "\n",
    "import lab2_lib"
   ]
  },
  {
   "cell_type": "code",
   "execution_count": 2,
   "metadata": {},
   "outputs": [],
   "source": [
    "from random import choices, randint, sample\n",
    "\n",
    "class EvolutionaryAlgorithm:\n",
    "    def __init__(self, problem, population_size, generations, mutation_rate,genome_length):\n",
    "        self.problem = problem\n",
    "        self.population_size = population_size\n",
    "        self.generations = generations\n",
    "        self.mutation_rate = mutation_rate\n",
    "        self.genome_lenght = genome_length\n",
    "\n",
    "# Initialize populations of genome_lenght genomes\n",
    "    def initialize_population(self):\n",
    "        return [choices([0, 1], k=self.genome_lenght) for _ in range(self.population_size)]\n",
    "\n",
    "# Mutation of 1/5 of the genome as a bit-flipping \n",
    "    def mutate(self, individual):\n",
    "        num_mutations = self.genome_lenght // 5  # \n",
    "        for _ in range(num_mutations):\n",
    "            mutated_index = randint(0, len(individual) - 1)\n",
    "            individual[mutated_index] = 1 - individual[mutated_index]\n",
    "        return individual\n",
    "\n",
    "\n",
    "# Crossover between two parent \n",
    "    def crossover(self, parent1, parent2):\n",
    "        crossover_point = randint(1, self.genome_lenght-1)\n",
    "        child1 = parent1[:crossover_point] + parent2[crossover_point:]\n",
    "        child2 = parent2[:crossover_point] + parent1[crossover_point:]\n",
    "        return child1, child2\n",
    "    \n",
    "# Evaluate current population\n",
    "    def evaluate_population(self,population):\n",
    "        return [self.problem(individual) for individual in population]\n",
    "        \n",
    "\n",
    "# Tournament selection between 5 individuals\n",
    "    def tournament_selection(self, population, fitnesses, tournament_size=5):\n",
    "        extracted = []\n",
    "        for _ in range(2):\n",
    "            tournament_indices = choices(range(self.population_size), k=tournament_size)\n",
    "            tournament = [(population[i], fitnesses[i]) for i in tournament_indices]\n",
    "            winner = max(tournament, key=lambda x: x[1])[0]\n",
    "            extracted.append(winner)\n",
    "        return extracted\n",
    "\n",
    "    def run(self):\n",
    "        population = self.initialize_population()\n",
    "        offspring = []\n",
    "        best_fitness = []\n",
    "\n",
    "        for generation in range(self.generations):\n",
    "            # Evaluate fitness for each individual in the population\n",
    "            fitness_values = [self.problem(individual) for individual in population]\n",
    "\n",
    "            # Generates offspring\n",
    "            for _ in range(self.population_size //2):\n",
    "                parent1, parent2 = self.tournament_selection(population, fitness_values)\n",
    "                child1, child2 = self.crossover(parent1, parent2)\n",
    "                child1 = self.mutate(child1)\n",
    "                child2 = self.mutate(child2)\n",
    "                offspring.extend([child1, child2])\n",
    "\n",
    "\n",
    "            # Add to the old population the offspring\n",
    "            population += offspring\n",
    "            best_fitness.append(max(fitness_values))\n",
    "        \n",
    "            # Checking convergence \n",
    "            if generation > 0 and abs(max(fitness_values) - best_fitness[-2]) < 0.01:\n",
    "                print(f\"Convergence reached at generation {generation}.\")\n",
    "                break\n",
    "\n",
    "        # Return the best individual found\n",
    "        best_individual = max(population, key=lambda ind: self.problem(ind))\n",
    "        return best_individual, max(best_fitness)\n"
   ]
  },
  {
   "cell_type": "code",
   "execution_count": 3,
   "metadata": {},
   "outputs": [
    {
     "name": "stdout",
     "output_type": "stream",
     "text": [
      "Convergence reached at generation 1.\n",
      "Best Fitness: 0.548\n",
      "Number of Fitness Calls: 700\n"
     ]
    }
   ],
   "source": [
    "# Example:\n",
    "problem_size = 1\n",
    "fitness = lab2_lib.make_problem(problem_size)\n",
    "ea = EvolutionaryAlgorithm(fitness, population_size=100, generations=1000, mutation_rate=0.1, genome_length=1000)\n",
    "best_individual,best_fitness = ea.run()\n",
    "#print(\"Best Individual:\", best_individual)\n",
    "print(\"Best Fitness:\", best_fitness)\n",
    "print(\"Number of Fitness Calls:\", fitness.calls)"
   ]
  }
 ],
 "metadata": {
  "kernelspec": {
   "display_name": "ci-fLJ3OwGs-py3.12",
   "language": "python",
   "name": "python3"
  },
  "language_info": {
   "codemirror_mode": {
    "name": "ipython",
    "version": 3
   },
   "file_extension": ".py",
   "mimetype": "text/x-python",
   "name": "python",
   "nbconvert_exporter": "python",
   "pygments_lexer": "ipython3",
   "version": "3.12.0"
  }
 },
 "nbformat": 4,
 "nbformat_minor": 2
}
