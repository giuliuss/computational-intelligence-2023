{
 "cells": [
  {
   "cell_type": "markdown",
   "metadata": {},
   "source": [
    "# LAB2\n",
    "\n",
    "Wrote a local-search algorithm (eg. an EA) able to solve the *Problem* instances 1, 2, 5, and 10 on a 1000-loci genomes, using a minimum number of fitness calls. That's all.\n",
    "\n",
    "### Deadlines:\n",
    "\n",
    "* Submission: Sunday, December 3 ([CET](https://www.timeanddate.com/time/zones/cet))\n",
    "* Reviews: Sunday, December 10 ([CET](https://www.timeanddate.com/time/zones/cet))\n",
    "\n",
    "Notes:\n",
    "\n",
    "* Reviews will be assigned  on Monday, December 4\n",
    "* You need to commit in order to be selected as a reviewer (ie. better to commit an empty work than not to commit)"
   ]
  },
  {
   "cell_type": "code",
   "execution_count": 13,
   "metadata": {},
   "outputs": [],
   "source": [
    "from random import choices,randint\n",
    "import random\n",
    "\n",
    "import lab2_lib"
   ]
  },
  {
   "cell_type": "code",
   "execution_count": 14,
   "metadata": {},
   "outputs": [],
   "source": [
    "from random import choices, randint, sample\n",
    "\n",
    "class EvolutionaryAlgorithm:\n",
    "    def __init__(self, problem, population_size, generations, mutation_rate,genome_length):\n",
    "        self.problem = problem\n",
    "        self.population_size = population_size\n",
    "        self.generations = generations\n",
    "        self.mutation_rate = mutation_rate\n",
    "        self.genome_lenght = genome_length\n",
    "\n",
    "# Initialize populations of genome_lenght genomes\n",
    "    def initialize_population(self):\n",
    "        return [choices([0, 1], k=self.genome_lenght) for _ in range(self.population_size)]\n",
    "\n",
    "# Mutation of 1/5 of the genome as a bit-flipping \n",
    "    def mutate(self, individual):\n",
    "        num_mutations = self.genome_lenght // 5  # \n",
    "        for _ in range(num_mutations):\n",
    "            mutated_index = randint(0, len(individual) - 1)\n",
    "            individual[mutated_index] = 1 - individual[mutated_index]\n",
    "        return individual\n",
    "\n",
    "\n",
    "# Crossover between two parent \n",
    "    def crossover(self, parent1, parent2):\n",
    "        crossover_point = randint(1, self.genome_lenght-1)\n",
    "        child1 = parent1[:crossover_point] + parent2[crossover_point:]\n",
    "        child2 = parent2[:crossover_point] + parent1[crossover_point:]\n",
    "        return child1, child2\n",
    "    \n",
    "# Evaluate current population\n",
    "    def evaluate_population(self,population):\n",
    "        return [self.problem(individual) for individual in population]\n",
    "        \n",
    "\n",
    "# Tournament selection between 5 individuals\n",
    "    def tournament_selection(self, population, fitnesses, tournament_size=5):\n",
    "        extracted = []\n",
    "        for _ in range(2):\n",
    "            tournament_indices = choices(range(self.population_size), k=tournament_size)\n",
    "            tournament = [(population[i], fitnesses[i]) for i in tournament_indices]\n",
    "            winner = max(tournament, key=lambda x: x[1])[0]\n",
    "            extracted.append(winner)\n",
    "        return extracted\n",
    "\n",
    "    def run(self):\n",
    "        population = self.initialize_population()\n",
    "        offspring = []\n",
    "        best_fitness = []\n",
    "\n",
    "        for generation in range(self.generations):\n",
    "            # Evaluate fitness for each individual in the population\n",
    "            fitness_values = self.evaluate_population(population)\n",
    "\n",
    "            # Generate offspring\n",
    "            for _ in range(self.population_size //2):\n",
    "                parent1, parent2 = self.tournament_selection(population, fitness_values)\n",
    "                child1, child2 = self.crossover(parent1, parent2)\n",
    "                child1 = self.mutate(child1)\n",
    "                child2 = self.mutate(child2)\n",
    "                offspring.extend([child1, child2])\n",
    "\n",
    "\n",
    "            # Add to the old population the offspring\n",
    "            population += offspring\n",
    "\n",
    "            # Append the maximum fitness value of the actual generation, with n Fitness Calls\n",
    "            best_fitness.append((max(fitness_values), generation, self.problem.calls))\n",
    "            best_fitness.sort(key=lambda x: x[0])\n",
    "            \n",
    "            # Checking convergence involves comparing the maximum fitness value of the current generation with that of the two previous generations\n",
    "            if generation > 1 and max(fitness_values) == best_fitness[-3][0]:\n",
    "                #print(best_fitness)\n",
    "                print(f\"Convergence reached at generation {generation}.\")\n",
    "                break\n",
    "\n",
    "        # Note: the best individual is the one that achieves the maximum fitness with the fewest fitness evaluations, corresponding to \n",
    "        #       the oldest generation with this maximum (since the approach is μ+λ, the higher the generation, the larger the population)\n",
    "        best_individual = max(population, key=lambda ind: self.problem(ind))\n",
    "        return best_individual, best_fitness[-3]\n"
   ]
  },
  {
   "cell_type": "code",
   "execution_count": 15,
   "metadata": {},
   "outputs": [
    {
     "name": "stdout",
     "output_type": "stream",
     "text": [
      "Convergence reached at generation 5.\n",
      "Best Fitness: 0.558 reached at generation 3 with number of Fitness Calls: 1400\n"
     ]
    }
   ],
   "source": [
    "# Example with 1\n",
    "problem_size = 1\n",
    "fitness = lab2_lib.make_problem(problem_size)\n",
    "ea = EvolutionaryAlgorithm(fitness, population_size=100, generations=1000, mutation_rate=0.15, genome_length=1000)\n",
    "best_individual,best_fitness = ea.run()\n",
    "#print(\"Best Individual:\", best_individual)\n",
    "print(\"Best Fitness:\", best_fitness[0],\"reached at generation\", best_fitness[1],\"with number of Fitness Calls:\", best_fitness[2])"
   ]
  },
  {
   "cell_type": "code",
   "execution_count": 16,
   "metadata": {},
   "outputs": [
    {
     "name": "stdout",
     "output_type": "stream",
     "text": [
      "Convergence reached at generation 3.\n",
      "Best Fitness: 0.5354 reached at generation 1 with number of Fitness Calls: 300\n"
     ]
    }
   ],
   "source": [
    "# Example with 2\n",
    "problem_size = 2\n",
    "fitness = lab2_lib.make_problem(problem_size)\n",
    "ea = EvolutionaryAlgorithm(fitness, population_size=100, generations=1000, mutation_rate=0.15, genome_length=1000)\n",
    "best_individual,best_fitness = ea.run()\n",
    "#print(\"Best Individual:\", best_individual)\n",
    "print(\"Best Fitness:\", best_fitness[0],\"reached at generation\", best_fitness[1],\"with number of Fitness Calls:\", best_fitness[2])"
   ]
  },
  {
   "cell_type": "code",
   "execution_count": 17,
   "metadata": {},
   "outputs": [
    {
     "name": "stdout",
     "output_type": "stream",
     "text": [
      "Convergence reached at generation 3.\n",
      "Best Fitness: 0.564094 reached at generation 1 with number of Fitness Calls: 300\n"
     ]
    }
   ],
   "source": [
    "# Example with 5\n",
    "problem_size = 5\n",
    "fitness = lab2_lib.make_problem(problem_size)\n",
    "ea = EvolutionaryAlgorithm(fitness, population_size=100, generations=1000, mutation_rate=0.15, genome_length=1000)\n",
    "best_individual,best_fitness = ea.run()\n",
    "#print(\"Best Individual:\", best_individual)\n",
    "print(\"Best Fitness:\", best_fitness[0],\"reached at generation\", best_fitness[1],\"with number of Fitness Calls:\", best_fitness[2])"
   ]
  },
  {
   "cell_type": "code",
   "execution_count": 18,
   "metadata": {},
   "outputs": [
    {
     "name": "stdout",
     "output_type": "stream",
     "text": [
      "Convergence reached at generation 5.\n",
      "Best Fitness: 0.6356134678600001 reached at generation 3 with number of Fitness Calls: 1400\n"
     ]
    }
   ],
   "source": [
    "# Example with 10\n",
    "problem_size = 10\n",
    "fitness = lab2_lib.make_problem(problem_size)\n",
    "ea = EvolutionaryAlgorithm(fitness, population_size=100, generations=1000, mutation_rate=0.15, genome_length=1000)\n",
    "best_individual,best_fitness = ea.run()\n",
    "#print(\"Best Individual:\", best_individual)\n",
    "print(\"Best Fitness:\", best_fitness[0],\"reached at generation\", best_fitness[1],\"with number of Fitness Calls:\", best_fitness[2])"
   ]
  }
 ],
 "metadata": {
  "kernelspec": {
   "display_name": "ci-fLJ3OwGs-py3.12",
   "language": "python",
   "name": "python3"
  },
  "language_info": {
   "codemirror_mode": {
    "name": "ipython",
    "version": 3
   },
   "file_extension": ".py",
   "mimetype": "text/x-python",
   "name": "python",
   "nbconvert_exporter": "python",
   "pygments_lexer": "ipython3",
   "version": "3.12.0"
  }
 },
 "nbformat": 4,
 "nbformat_minor": 2
}
