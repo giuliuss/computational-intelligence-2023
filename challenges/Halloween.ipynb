{
 "cells": [
  {
   "cell_type": "code",
   "execution_count": 30,
   "id": "3ffe7245-e849-41d0-9698-5f0e0b83fee9",
   "metadata": {},
   "outputs": [],
   "source": [
    "from itertools import product\n",
    "from random import random, randint, shuffle, seed\n",
    "import numpy as np\n",
    "from functools import reduce\n",
    "from copy import copy\n",
    "from scipy import sparse"
   ]
  },
  {
   "cell_type": "code",
   "execution_count": 31,
   "id": "6f03bd67-78a0-4d72-95b7-77a918727b91",
   "metadata": {},
   "outputs": [],
   "source": [
    "def make_set_covering_problem(num_points, num_sets, density):\n",
    "    \"\"\"Returns a sparse array where rows are sets and columns are the covered items\"\"\"\n",
    "    seed(num_points*2654435761+num_sets+density)\n",
    "    sets = sparse.lil_array((num_sets, num_points), dtype=bool)\n",
    "    for s, p in product(range(num_sets), range(num_points)):\n",
    "        if random() < density:\n",
    "            sets[s, p] = True\n",
    "    for p in range(num_points):\n",
    "        sets[randint(0, num_sets-1), p] = True\n",
    "    return sets"
   ]
  },
  {
   "cell_type": "markdown",
   "id": "82b0be37-21d9-492d-9a1d-cf0cdf0ddd76",
   "metadata": {},
   "source": [
    "# Halloween Challenge\n",
    "\n",
    "Find the best solution with the fewest calls to the fitness functions for:\n",
    "\n",
    "* `num_points = [100, 1_000, 5_000]`\n",
    "* `num_sets = num_points`\n",
    "* `density = [.3, .7]` "
   ]
  },
  {
   "cell_type": "code",
   "execution_count": 32,
   "id": "381d5526",
   "metadata": {},
   "outputs": [],
   "source": [
    "NUM_POINTS = 5000\n",
    "DENSITY = 0.7"
   ]
  },
  {
   "cell_type": "code",
   "execution_count": 33,
   "id": "c11bcb50",
   "metadata": {},
   "outputs": [],
   "source": [
    "sets = make_set_covering_problem(NUM_POINTS, NUM_POINTS, DENSITY).toarray()"
   ]
  },
  {
   "cell_type": "markdown",
   "id": "ecb78b65",
   "metadata": {},
   "source": [
    "Fitness function stolen from Professor's repository 👀"
   ]
  },
  {
   "cell_type": "code",
   "execution_count": 34,
   "id": "1e1a8cfe",
   "metadata": {},
   "outputs": [],
   "source": [
    "def fitness(solution):\n",
    "    cost = len(solution)\n",
    "    valid = np.sum(reduce(\n",
    "        np.logical_or, \n",
    "        [sets[i] for i in solution],\n",
    "        np.zeros(NUM_POINTS))\n",
    "    )\n",
    "    return valid, -cost"
   ]
  },
  {
   "cell_type": "code",
   "execution_count": 35,
   "id": "306250cc",
   "metadata": {},
   "outputs": [],
   "source": [
    "def goal_check(solution):\n",
    "    return  np.sum(reduce(\n",
    "        np.logical_or, \n",
    "        [sets[i] for i in solution],\n",
    "        np.zeros(NUM_POINTS))\n",
    "        ) == NUM_POINTS"
   ]
  },
  {
   "cell_type": "markdown",
   "id": "97090b58",
   "metadata": {},
   "source": [
    "The idea of this tweak function is to delete a set randomically and then check if it was really important to cover some points or was unuseful"
   ]
  },
  {
   "cell_type": "code",
   "execution_count": 36,
   "id": "6ce2b0f8",
   "metadata": {},
   "outputs": [],
   "source": [
    "def tweak(solution):\n",
    "    new_solution = copy(solution)\n",
    "    index = randint(0, len(new_solution) - 1)\n",
    "    del new_solution[index]\n",
    "    return new_solution"
   ]
  },
  {
   "cell_type": "markdown",
   "id": "ba32f2cd",
   "metadata": {},
   "source": [
    "Starting from a solution with few number of randomic sets, given by correlation between the number of points, the density and an heuristic value of 0.05"
   ]
  },
  {
   "cell_type": "code",
   "execution_count": 37,
   "id": "c9e900b1",
   "metadata": {},
   "outputs": [
    {
     "name": "stdout",
     "output_type": "stream",
     "text": [
      "Best solution: [4071, 4651, 1978, 2464, 3469, 3918, 2456, 4991, 1216, 1527, 1413, 1043, 3266, 2669, 1317, 2869, 1141, 387, 2607, 2701, 1323, 1951, 1751, 2693, 1653, 3048, 2078, 2532, 1348, 3342, 4244, 1234, 1442, 2132, 1815, 4716, 2570, 1436, 1798, 4270, 4162, 3104, 3633, 864, 1961, 1673, 2086, 738, 2855, 426, 3475, 554, 49, 216, 268, 2010, 891, 894, 4975, 2665, 93, 89, 3216, 4439, 569, 3420, 3966, 3394, 3421, 10, 3528, 2559, 4955, 2595, 3854, 891, 1022, 2039, 4091, 1196, 419, 1007, 2513, 3774, 4425, 729, 4962, 2269, 3157, 617, 2882, 236, 4071, 869, 2547, 3257, 4560, 4040, 3780, 3211, 1384, 3758, 1373, 1792, 4187, 3021, 3092, 1364, 647, 2948, 4090, 662, 1091, 4867, 4153, 2732, 2159, 2596, 1472, 3767, 4450, 4768, 3008, 4627, 591, 3493, 219, 3978, 1608, 785, 3431, 3658, 4740, 3661, 4859, 859, 2362, 3904, 3828, 4009, 3559, 1454, 3803, 1607, 321, 2895, 3158, 2756, 561, 1040, 2149, 2513, 2373, 3271, 3823, 3918, 3940, 1239, 186, 3452, 2242, 3934, 4347, 4107, 728, 1047, 50, 4847, 3000, 2899, 1342, 4023, 1905, 1784, 2204, 666, 3259, 4268, 2869, 3769, 1778, 2985, 1837, 1814, 415, 4983, 338, 3364, 2162, 801, 3161, 1698, 1383, 1949, 2237, 2981, 2550, 4511, 305, 1456, 4545, 4344, 3293, 1682, 1913, 3460, 3363, 2805, 2344, 4577, 279, 1560, 2120, 1508, 2280, 4934, 4585, 4690, 1270, 4981, 626, 3389, 441, 4031, 2975, 524, 1650, 2510, 4604, 3605, 1996, 2774, 2739, 1211, 1417, 2120, 552, 1548, 2862, 2759, 2588, 1362, 970, 4435, 4304, 4095, 563, 4456, 405, 838, 1742, 1002, 218, 719, 4405, 1162, 4578, 4413, 4378, 3469, 581, 4184, 4291, 4013, 2227, 2240, 3838, 2277, 269, 1056, 3414, 3850, 2285, 4192, 2233, 3669, 2623, 3996, 3658, 251, 1396, 3184, 999, 2516, 3917, 1531, 4573, 4877, 587, 2927, 4537, 135, 1264, 1066, 2612, 4460, 3226, 3898, 1291, 732, 3420, 4454, 4460, 4708, 1939, 711, 1365, 1978, 1913, 3182, 3638, 1249, 4479, 630, 1419, 3804, 4095, 4397, 1503, 4760, 4018, 1335, 1022, 3975, 4492, 510, 3637, 1525, 670, 2748, 3382, 1273, 714, 3540, 3608, 90, 882, 3302, 688, 460, 505, 778, 547, 3825, 2647, 4345, 1966, 3461, 356, 642, 2984, 3683, 1518, 2031, 4457, 1468, 349] with fitness score: (5000, -357)\n"
     ]
    }
   ],
   "source": [
    "solution = []\n",
    "for _ in range(int(NUM_POINTS*(0.05/DENSITY))):\n",
    "    solution.append(randint(0, NUM_POINTS - 1))\n",
    "\n",
    "fitness_score = fitness(solution)\n",
    "#fitness_score\n",
    "assert(fitness_score[0] == NUM_POINTS)\n",
    "print(f'Best solution: {solution} with fitness score: {fitness_score}')"
   ]
  },
  {
   "cell_type": "markdown",
   "id": "f794d42f",
   "metadata": {},
   "source": [
    "As explained during lessons, if we search a better solution more than 5 times, it means that maybe we already have, so we should stop"
   ]
  },
  {
   "cell_type": "code",
   "execution_count": 38,
   "id": "0792a38c",
   "metadata": {},
   "outputs": [
    {
     "name": "stdout",
     "output_type": "stream",
     "text": [
      "Best solution: [1007, 3021, 3493, 2985, 1419, 688] with fitness_score: (5000, -6)\n"
     ]
    }
   ],
   "source": [
    "same_fitness = 0\n",
    "fitness_count = 0\n",
    "while True:\n",
    "    temp = copy(solution)\n",
    "    for _ in range(len(solution)-1):\n",
    "        new_solution = tweak(temp)\n",
    "        if(goal_check(new_solution)):\n",
    "            temp = new_solution\n",
    "    score = fitness(temp)\n",
    "    fitness_count += 1\n",
    "    # if score > fitness_score: found better solution, redo the tweak \n",
    "    if score == fitness_score:\n",
    "        same_fitness +=1 \n",
    "    solution = temp\n",
    "    fitness_score = score\n",
    "    if same_fitness == 5:\n",
    "        break\n",
    "print(f'Best solution: {solution} with fitness_score: {fitness_score}')"
   ]
  },
  {
   "cell_type": "markdown",
   "id": "e9175f2c",
   "metadata": {},
   "source": [
    "| NSETS & NPOINTS | DENSITY | FITNESS |\n",
    "| -- | -- | -- |\n",
    "| 100 | 0.3 | (100, -7) |\n",
    "| 100 | 0.7 | (100, -3) |\n",
    "| 1000 | 0.3 | (1000, -15) |\n",
    "| 1000 | 0.7 | (1000, -6) |\n",
    "| 5000 | 0.3 | (5000, -20) |\n",
    "| 5000 | 0.7 | (5000, -6) | "
   ]
  }
 ],
 "metadata": {
  "kernelspec": {
   "display_name": "Python 3 (ipykernel)",
   "language": "python",
   "name": "python3"
  },
  "language_info": {
   "codemirror_mode": {
    "name": "ipython",
    "version": 3
   },
   "file_extension": ".py",
   "mimetype": "text/x-python",
   "name": "python",
   "nbconvert_exporter": "python",
   "pygments_lexer": "ipython3",
   "version": "3.12.0"
  }
 },
 "nbformat": 4,
 "nbformat_minor": 5
}
