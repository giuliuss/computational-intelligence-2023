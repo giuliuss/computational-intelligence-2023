{
 "cells": [
  {
   "cell_type": "code",
   "execution_count": 161,
   "metadata": {},
   "outputs": [],
   "source": [
    "from random import random\n",
    "from functools import reduce\n",
    "from collections import namedtuple, deque\n",
    "from queue import PriorityQueue, SimpleQueue, LifoQueue\n",
    "from math import ceil,floor\n",
    "\n",
    "import numpy as np"
   ]
  },
  {
   "cell_type": "code",
   "execution_count": 162,
   "metadata": {},
   "outputs": [],
   "source": [
    "PROBLEM_SIZE = 20\n",
    "NUM_SETS = 40\n",
    "SETS = tuple(\n",
    "    np.array([random() < 0.3 for _ in range(PROBLEM_SIZE)])\n",
    "    for _ in range(NUM_SETS)\n",
    ")\n",
    "State = namedtuple('State', ['taken', 'not_taken'])"
   ]
  },
  {
   "cell_type": "code",
   "execution_count": 163,
   "metadata": {},
   "outputs": [
    {
     "data": {
      "text/plain": [
       "(array([False, False, False, False, False,  True, False,  True, False,\n",
       "        False, False,  True,  True, False, False, False, False, False,\n",
       "        False, False]),\n",
       " array([False, False, False, False, False, False, False,  True, False,\n",
       "        False, False, False, False, False, False, False,  True, False,\n",
       "        False, False]),\n",
       " array([False,  True,  True, False,  True,  True, False, False, False,\n",
       "        False, False, False, False,  True, False, False, False, False,\n",
       "        False, False]),\n",
       " array([False, False, False, False,  True, False, False, False, False,\n",
       "         True, False, False, False, False, False, False, False,  True,\n",
       "         True, False]),\n",
       " array([False, False, False, False, False, False, False,  True, False,\n",
       "        False,  True, False, False,  True, False,  True,  True, False,\n",
       "        False, False]),\n",
       " array([False, False, False, False,  True, False, False, False, False,\n",
       "        False, False, False,  True, False, False, False, False,  True,\n",
       "        False,  True]),\n",
       " array([False, False, False, False, False, False, False, False, False,\n",
       "         True, False, False, False, False, False, False, False, False,\n",
       "        False, False]),\n",
       " array([ True,  True, False,  True, False, False, False, False,  True,\n",
       "         True, False,  True, False, False, False, False, False,  True,\n",
       "        False,  True]),\n",
       " array([False, False, False, False, False, False, False, False,  True,\n",
       "        False,  True, False, False, False,  True,  True, False,  True,\n",
       "        False, False]),\n",
       " array([False,  True, False,  True, False, False, False, False, False,\n",
       "        False,  True, False,  True,  True, False, False, False, False,\n",
       "        False, False]),\n",
       " array([ True, False, False, False,  True,  True, False,  True, False,\n",
       "        False, False, False, False, False, False,  True,  True,  True,\n",
       "        False, False]),\n",
       " array([False, False, False, False, False, False, False, False, False,\n",
       "         True, False, False, False, False, False, False, False, False,\n",
       "        False,  True]),\n",
       " array([False, False,  True, False,  True, False,  True, False, False,\n",
       "        False, False,  True, False, False, False,  True, False, False,\n",
       "         True, False]),\n",
       " array([ True, False,  True,  True,  True, False, False,  True, False,\n",
       "         True, False, False, False, False, False, False, False,  True,\n",
       "         True,  True]),\n",
       " array([False, False, False, False,  True, False, False,  True, False,\n",
       "        False, False, False, False, False,  True,  True, False,  True,\n",
       "        False, False]),\n",
       " array([False,  True, False, False, False, False, False, False, False,\n",
       "         True,  True, False, False, False, False, False, False, False,\n",
       "        False, False]),\n",
       " array([False, False, False,  True, False, False, False, False, False,\n",
       "        False, False, False,  True, False,  True, False,  True,  True,\n",
       "        False, False]),\n",
       " array([False, False, False, False, False, False, False,  True, False,\n",
       "         True, False, False, False, False,  True, False, False, False,\n",
       "        False, False]),\n",
       " array([ True, False, False, False,  True, False,  True,  True, False,\n",
       "        False, False, False, False, False,  True,  True, False, False,\n",
       "        False, False]),\n",
       " array([False, False,  True, False,  True, False, False,  True, False,\n",
       "        False, False, False, False,  True, False, False, False,  True,\n",
       "        False, False]),\n",
       " array([ True, False, False, False,  True, False,  True,  True, False,\n",
       "        False,  True, False, False, False,  True,  True, False,  True,\n",
       "        False, False]),\n",
       " array([ True, False, False, False, False, False, False, False,  True,\n",
       "        False, False, False,  True, False,  True, False, False, False,\n",
       "         True, False]),\n",
       " array([False, False, False, False,  True, False, False, False,  True,\n",
       "         True, False,  True, False, False, False, False,  True, False,\n",
       "        False, False]),\n",
       " array([False,  True, False, False,  True, False,  True, False, False,\n",
       "        False, False,  True,  True, False, False, False, False, False,\n",
       "        False, False]),\n",
       " array([ True, False, False,  True,  True, False, False, False, False,\n",
       "        False,  True,  True, False, False, False,  True, False, False,\n",
       "        False, False]),\n",
       " array([False, False,  True, False,  True,  True, False, False, False,\n",
       "         True,  True, False, False, False, False,  True,  True,  True,\n",
       "        False, False]),\n",
       " array([False, False,  True, False, False, False,  True,  True,  True,\n",
       "         True, False, False, False, False, False, False,  True, False,\n",
       "        False, False]),\n",
       " array([False, False, False, False,  True, False, False,  True, False,\n",
       "         True, False, False, False, False, False,  True,  True, False,\n",
       "        False,  True]),\n",
       " array([ True, False,  True, False,  True, False,  True, False,  True,\n",
       "        False, False, False, False, False, False, False, False, False,\n",
       "         True, False]),\n",
       " array([False, False,  True,  True, False, False, False, False,  True,\n",
       "         True, False,  True, False, False,  True, False,  True, False,\n",
       "        False, False]),\n",
       " array([False, False, False, False, False, False, False, False, False,\n",
       "         True, False, False, False,  True, False, False,  True, False,\n",
       "        False, False]),\n",
       " array([ True,  True, False, False, False,  True, False, False, False,\n",
       "        False,  True, False, False, False, False,  True,  True, False,\n",
       "        False, False]),\n",
       " array([False, False,  True, False,  True, False, False,  True,  True,\n",
       "        False, False,  True,  True, False, False, False,  True, False,\n",
       "        False,  True]),\n",
       " array([ True, False, False,  True,  True, False, False,  True, False,\n",
       "         True, False, False, False, False, False,  True, False, False,\n",
       "         True, False]),\n",
       " array([False, False, False, False,  True,  True, False, False,  True,\n",
       "        False, False, False,  True,  True, False, False, False, False,\n",
       "         True,  True]),\n",
       " array([ True, False, False, False, False, False,  True,  True, False,\n",
       "        False,  True,  True, False,  True, False, False, False,  True,\n",
       "        False,  True]),\n",
       " array([ True, False, False,  True,  True, False, False, False, False,\n",
       "        False, False, False, False, False, False, False,  True, False,\n",
       "        False, False]),\n",
       " array([ True, False, False,  True, False, False, False,  True,  True,\n",
       "         True, False,  True, False, False, False,  True, False, False,\n",
       "         True, False]),\n",
       " array([False, False,  True, False, False,  True, False, False, False,\n",
       "        False, False,  True,  True, False,  True, False, False, False,\n",
       "        False, False]),\n",
       " array([False, False, False, False, False,  True, False, False, False,\n",
       "        False, False,  True, False,  True,  True,  True, False, False,\n",
       "        False,  True]))"
      ]
     },
     "execution_count": 163,
     "metadata": {},
     "output_type": "execute_result"
    }
   ],
   "source": [
    "SETS"
   ]
  },
  {
   "cell_type": "code",
   "execution_count": 164,
   "metadata": {},
   "outputs": [],
   "source": [
    "def goal_check(state):\n",
    "    return np.all(reduce(\n",
    "        np.logical_or,\n",
    "        [SETS[i] for i in state.taken],\n",
    "        np.array([False for _ in range(PROBLEM_SIZE)]),\n",
    "    ))\n",
    "\n",
    "assert goal_check(\n",
    "    State(set(range(NUM_SETS)), set())\n",
    "), \"Probelm not solvable\""
   ]
  },
  {
   "cell_type": "markdown",
   "metadata": {},
   "source": [
    "As we know, the A* algorithm is based on addition between the actual cost and the estimated (heuristic) one, which calculus function should be admissible (it should never overstimate the cost to reach the goal), consistent and monotonic.\n",
    "Therefore, we need to define the functions g() and h()."
   ]
  },
  {
   "cell_type": "markdown",
   "metadata": {},
   "source": [
    "The actual state is rapresented by the number of sets already taken."
   ]
  },
  {
   "cell_type": "code",
   "execution_count": 171,
   "metadata": {},
   "outputs": [],
   "source": [
    "def g(state):\n",
    "    return len(state.taken)"
   ]
  },
  {
   "cell_type": "markdown",
   "metadata": {},
   "source": [
    "Due to the fact that we have probability of true less than 0.3, we could calculate the heuristic function as the product between the lower bound of the states not taken and the best probability to have true value (that is 0.3).\n",
    "For example, if PROBLEM_SIZE is 10, state.not_taken is equal to 7, then h will be 7/0.3 = 2,1 = 2, and this will rapresent the optimistic number of steps to reach the goal."
   ]
  },
  {
   "cell_type": "code",
   "execution_count": 166,
   "metadata": {},
   "outputs": [],
   "source": [
    "def h(state):\n",
    "    return floor(len(state.not_taken)*0.3)"
   ]
  },
  {
   "cell_type": "code",
   "execution_count": 167,
   "metadata": {},
   "outputs": [],
   "source": [
    "def f(state):\n",
    "    return g(state) + h(state)"
   ]
  },
  {
   "cell_type": "markdown",
   "metadata": {},
   "source": [
    "### A* algorithm"
   ]
  },
  {
   "cell_type": "code",
   "execution_count": 168,
   "metadata": {},
   "outputs": [
    {
     "name": "stdout",
     "output_type": "stream",
     "text": [
      "Solved in 2,941 steps (4 tiles)\n"
     ]
    }
   ],
   "source": [
    "frontier = PriorityQueue()\n",
    "state = State(set(), set(range(NUM_SETS)))\n",
    "frontier.put((f(state), state))\n",
    "\n",
    "counter = 0\n",
    "_, current_state = frontier.get()\n",
    "while not goal_check(current_state):\n",
    "    counter += 1\n",
    "    for action in current_state[1]:\n",
    "        new_state = State(\n",
    "            current_state.taken ^ {action},\n",
    "            current_state.not_taken ^ {action},\n",
    "        )\n",
    "        frontier.put((f(new_state), new_state))\n",
    "    _, current_state = frontier.get()\n",
    "\n",
    "print(f\"Solved in {counter:,} steps ({len(current_state.taken)} tiles)\")"
   ]
  },
  {
   "cell_type": "markdown",
   "metadata": {},
   "source": [
    "To better understand the efficiency of an informed algorithm such as A*, we compare the results of one uninformed like Breadth-First."
   ]
  },
  {
   "cell_type": "code",
   "execution_count": 169,
   "metadata": {},
   "outputs": [
    {
     "name": "stdout",
     "output_type": "stream",
     "text": [
      "Solved in 188,116 steps (4 tiles)\n"
     ]
    }
   ],
   "source": [
    "frontier = deque()\n",
    "state = State(set(), set(range(NUM_SETS)))\n",
    "frontier.append(state)\n",
    "\n",
    "counter = 0\n",
    "current_state = frontier.popleft()\n",
    "while not goal_check(current_state):\n",
    "    counter += 1\n",
    "    for action in current_state[1]:\n",
    "        new_state = State(\n",
    "            current_state.taken ^ {action},\n",
    "            current_state.not_taken ^ {action},\n",
    "        )\n",
    "        frontier.append(new_state)\n",
    "    current_state = frontier.popleft()\n",
    "\n",
    "print(f\"Solved in {counter:,} steps ({len(current_state.taken)} tiles)\")"
   ]
  },
  {
   "cell_type": "markdown",
   "metadata": {},
   "source": [
    "As we can see, there's an evident difference between number of steps performed by the two algorithms."
   ]
  },
  {
   "cell_type": "code",
   "execution_count": 170,
   "metadata": {},
   "outputs": [
    {
     "data": {
      "text/plain": [
       "State(taken={32, 2, 20, 13}, not_taken={0, 1, 3, 4, 5, 6, 7, 8, 9, 10, 11, 12, 14, 15, 16, 17, 18, 19, 21, 22, 23, 24, 25, 26, 27, 28, 29, 30, 31, 33, 34, 35, 36, 37, 38, 39})"
      ]
     },
     "execution_count": 170,
     "metadata": {},
     "output_type": "execute_result"
    }
   ],
   "source": [
    "current_state"
   ]
  }
 ],
 "metadata": {
  "kernelspec": {
   "display_name": "ci-P-7LqQ3C-py3.11",
   "language": "python",
   "name": "python3"
  },
  "language_info": {
   "codemirror_mode": {
    "name": "ipython",
    "version": 3
   },
   "file_extension": ".py",
   "mimetype": "text/x-python",
   "name": "python",
   "nbconvert_exporter": "python",
   "pygments_lexer": "ipython3",
   "version": "3.12.0"
  }
 },
 "nbformat": 4,
 "nbformat_minor": 2
}
